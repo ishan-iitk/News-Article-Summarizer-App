{
  "nbformat": 4,
  "nbformat_minor": 0,
  "metadata": {
    "colab": {
      "name": "Summraize_news_articles_hugging_face.ipynb",
      "provenance": [],
      "collapsed_sections": []
    },
    "kernelspec": {
      "name": "python3",
      "display_name": "Python 3"
    },
    "language_info": {
      "name": "python"
    }
  },
  "cells": [
    {
      "cell_type": "code",
      "metadata": {
        "id": "CTAy7jRsTrL0",
        "colab": {
          "base_uri": "https://localhost:8080/"
        },
        "outputId": "016933aa-ccd1-4ab6-bbbd-f269b298266c"
      },
      "source": [
        "!pip install newspaper3k transformers gradio --quiet "
      ],
      "execution_count": 1,
      "outputs": [
        {
          "output_type": "stream",
          "name": "stdout",
          "text": [
            "\u001b[K     |████████████████████████████████| 211 kB 8.4 MB/s \n",
            "\u001b[K     |████████████████████████████████| 4.4 MB 56.3 MB/s \n",
            "\u001b[K     |████████████████████████████████| 5.1 MB 35.8 MB/s \n",
            "\u001b[K     |████████████████████████████████| 81 kB 11.4 MB/s \n",
            "\u001b[K     |████████████████████████████████| 93 kB 2.5 MB/s \n",
            "\u001b[K     |████████████████████████████████| 7.4 MB 41.6 MB/s \n",
            "\u001b[K     |████████████████████████████████| 596 kB 72.6 MB/s \n",
            "\u001b[K     |████████████████████████████████| 101 kB 14.4 MB/s \n",
            "\u001b[K     |████████████████████████████████| 6.6 MB 56.9 MB/s \n",
            "\u001b[K     |████████████████████████████████| 84 kB 4.8 MB/s \n",
            "\u001b[K     |████████████████████████████████| 1.1 MB 56.6 MB/s \n",
            "\u001b[K     |████████████████████████████████| 54 kB 3.8 MB/s \n",
            "\u001b[K     |████████████████████████████████| 212 kB 78.6 MB/s \n",
            "\u001b[K     |████████████████████████████████| 84 kB 3.8 MB/s \n",
            "\u001b[K     |████████████████████████████████| 57 kB 5.9 MB/s \n",
            "\u001b[K     |████████████████████████████████| 272 kB 75.5 MB/s \n",
            "\u001b[K     |████████████████████████████████| 2.3 MB 45.5 MB/s \n",
            "\u001b[K     |████████████████████████████████| 140 kB 65.6 MB/s \n",
            "\u001b[K     |████████████████████████████████| 271 kB 56.7 MB/s \n",
            "\u001b[K     |████████████████████████████████| 144 kB 78.0 MB/s \n",
            "\u001b[K     |████████████████████████████████| 94 kB 4.8 MB/s \n",
            "\u001b[K     |████████████████████████████████| 63 kB 2.3 MB/s \n",
            "\u001b[K     |████████████████████████████████| 80 kB 7.7 MB/s \n",
            "\u001b[K     |████████████████████████████████| 68 kB 7.9 MB/s \n",
            "\u001b[K     |████████████████████████████████| 54 kB 4.3 MB/s \n",
            "\u001b[K     |████████████████████████████████| 43 kB 2.6 MB/s \n",
            "\u001b[K     |████████████████████████████████| 62 kB 1.2 MB/s \n",
            "\u001b[K     |████████████████████████████████| 4.1 MB 42.8 MB/s \n",
            "\u001b[K     |████████████████████████████████| 856 kB 78.8 MB/s \n",
            "\u001b[?25h  Building wheel for tinysegmenter (setup.py) ... \u001b[?25l\u001b[?25hdone\n",
            "  Building wheel for feedfinder2 (setup.py) ... \u001b[?25l\u001b[?25hdone\n",
            "  Building wheel for jieba3k (setup.py) ... \u001b[?25l\u001b[?25hdone\n",
            "  Building wheel for ffmpy (setup.py) ... \u001b[?25l\u001b[?25hdone\n",
            "  Building wheel for python-multipart (setup.py) ... \u001b[?25l\u001b[?25hdone\n",
            "  Building wheel for sgmllib3k (setup.py) ... \u001b[?25l\u001b[?25hdone\n"
          ]
        }
      ]
    },
    {
      "cell_type": "markdown",
      "metadata": {
        "id": "olfs_aGNXJnx"
      },
      "source": [
        "## Load libraries"
      ]
    },
    {
      "cell_type": "code",
      "metadata": {
        "colab": {
          "base_uri": "https://localhost:8080/"
        },
        "id": "4MXxiFLyXKmJ",
        "outputId": "2e5307d4-6516-4459-bc40-af255a2ea1fb"
      },
      "source": [
        "from newspaper import Article\n",
        "from newspaper import Config\n",
        "import nltk\n",
        "nltk.download('punkt')\n",
        "from transformers import pipeline\n",
        "import gradio as gr\n",
        "from gradio.mix import Parallel, Series"
      ],
      "execution_count": 2,
      "outputs": [
        {
          "output_type": "stream",
          "name": "stderr",
          "text": [
            "[nltk_data] Downloading package punkt to /root/nltk_data...\n",
            "[nltk_data]   Unzipping tokenizers/punkt.zip.\n"
          ]
        }
      ]
    },
    {
      "cell_type": "code",
      "metadata": {
        "id": "1p4LpNOmVdoR"
      },
      "source": [
        "USER_AGENT = 'Mozilla/5.0 (Macintosh; Intel Mac OS X 10.15; rv:78.0) Gecko/20100101 Firefox/78.0'\n",
        "\n",
        "config = Config()\n",
        "config.browser_user_agent = USER_AGENT\n",
        "config.request_timeout = 10\n",
        "\n",
        "url = 'https://indianexpress.com/article/world/sri-lanka-crisis-live-updates-protests-gotabaya-rajapaksa-resign-8021566/'\n",
        "article = Article(url, config=config)"
      ],
      "execution_count": 3,
      "outputs": []
    },
    {
      "cell_type": "markdown",
      "metadata": {
        "id": "LsDGs17PXsl7"
      },
      "source": [
        "## Download the article"
      ]
    },
    {
      "cell_type": "code",
      "metadata": {
        "id": "l-byYnIVWJfj"
      },
      "source": [
        "article.download() "
      ],
      "execution_count": 4,
      "outputs": []
    },
    {
      "cell_type": "markdown",
      "metadata": {
        "id": "ypAKBsZOXqfX"
      },
      "source": [
        "## Parse information from article"
      ]
    },
    {
      "cell_type": "code",
      "metadata": {
        "id": "ObHg-d3EWYLI"
      },
      "source": [
        "article.parse() \n",
        "authors = \", \".join(author for author in article.authors)\n",
        "title = article.title\n",
        "date = article.publish_date\n",
        "text = article.text\n",
        "image = article.top_image\n",
        "videos = article.movies\n",
        "url = article.url"
      ],
      "execution_count": 5,
      "outputs": []
    },
    {
      "cell_type": "code",
      "metadata": {
        "colab": {
          "base_uri": "https://localhost:8080/"
        },
        "id": "FQDY_ZmlWk0_",
        "outputId": "340e26a3-ef01-4cc1-e4b1-7ea535c1f783"
      },
      "source": [
        "print(\"Information about the article\")\n",
        "print(\"=\" * 30)\n",
        "print(f\"Title: {title}\")\n",
        "print(f\"Author(s): {authors}\")\n",
        "print(f\"Publish date: {date}\")\n",
        "print(f\"Image: {image}\")\n",
        "print(f\"Videos: {videos}\")\n",
        "print(f\"Article link: {url}\")\n",
        "print(f\"Content: {text[:100] + '...'}\")"
      ],
      "execution_count": 6,
      "outputs": [
        {
          "output_type": "stream",
          "name": "stdout",
          "text": [
            "Information about the article\n",
            "==============================\n",
            "Title: Sri Lanka crisis Live Updates: Sri Lanka declares state of emergency, imposes curfew; PM gets interim presidential powers\n",
            "Author(s): Var Af_Widget_Data, Af_Article_Count\n",
            "Publish date: 2022-07-13 15:28:47+05:30\n",
            "Image: https://images.indianexpress.com/2022/07/sl-protesters.jpg\n",
            "Videos: []\n",
            "Article link: https://indianexpress.com/article/world/sri-lanka-crisis-live-updates-protests-gotabaya-rajapaksa-resign-8021566/\n",
            "Content: A man stands in the swimming pool as people visit the President's house on the day after demonstrato...\n"
          ]
        }
      ]
    },
    {
      "cell_type": "markdown",
      "metadata": {
        "id": "iLBHcE3lXxHG"
      },
      "source": [
        "## NLP from article"
      ]
    },
    {
      "cell_type": "code",
      "metadata": {
        "id": "Maf0OQROWUi0"
      },
      "source": [
        "article.nlp()"
      ],
      "execution_count": 7,
      "outputs": []
    },
    {
      "cell_type": "code",
      "metadata": {
        "colab": {
          "base_uri": "https://localhost:8080/"
        },
        "id": "LgaAM_e0Yk1L",
        "outputId": "a1cb73a8-52f1-4881-eb0c-1eceaa902d4b"
      },
      "source": [
        "keywords = article.keywords\n",
        "keywords.sort()\n",
        "print(keywords)"
      ],
      "execution_count": 8,
      "outputs": [
        {
          "output_type": "stream",
          "name": "stdout",
          "text": [
            "['congress', 'crisis', 'economic', 'gets', 'imposes', 'interim', 'lanka', 'live', 'powers', 'president', 'presidential', 'prime', 'rajapaksa', 'resign', 'sri', 'state', 'updates', 'wickremesinghe']\n"
          ]
        }
      ]
    },
    {
      "cell_type": "code",
      "metadata": {
        "id": "TkuS75W5YERO"
      },
      "source": [
        "keywords = \"\\n\".join(keyw for keyw in keywords)"
      ],
      "execution_count": 9,
      "outputs": []
    },
    {
      "cell_type": "code",
      "metadata": {
        "colab": {
          "base_uri": "https://localhost:8080/"
        },
        "id": "W00yQu7dX46d",
        "outputId": "5312a752-99e8-4600-882e-13ef37a4c453"
      },
      "source": [
        "print(f\"Article Keywords: \\n{keywords}\")"
      ],
      "execution_count": 10,
      "outputs": [
        {
          "output_type": "stream",
          "name": "stdout",
          "text": [
            "Article Keywords: \n",
            "congress\n",
            "crisis\n",
            "economic\n",
            "gets\n",
            "imposes\n",
            "interim\n",
            "lanka\n",
            "live\n",
            "powers\n",
            "president\n",
            "presidential\n",
            "prime\n",
            "rajapaksa\n",
            "resign\n",
            "sri\n",
            "state\n",
            "updates\n",
            "wickremesinghe\n"
          ]
        }
      ]
    },
    {
      "cell_type": "markdown",
      "metadata": {
        "id": "Zd2wIFIkWq8A"
      },
      "source": [
        "### Newspaper library summary"
      ]
    },
    {
      "cell_type": "code",
      "metadata": {
        "colab": {
          "base_uri": "https://localhost:8080/"
        },
        "id": "Sl5_-D1DYAlx",
        "outputId": "c41e9669-3723-4477-a9fc-d68bbc5f57cc"
      },
      "source": [
        "print(f\"Summary: \\n{article.summary}\")"
      ],
      "execution_count": 11,
      "outputs": [
        {
          "output_type": "stream",
          "name": "stdout",
          "text": [
            "Summary: \n",
            "Both President Rajapaksa and Prime Minister Wickremesinghe have offered to resign after they were forced out of their residences by protestors on Saturday.\n",
            "As Sri Lanka reels under its worst ever political and economic crisis, the Congress on Sunday hoped that New Delhi will continue to assist the people and government of Sri Lanka as they deal with the difficulties of the current situation.\n",
            "The main opposition party expressed its solidarity with Sri Lanka and its people in the “moment of grave crisis” and hoped that they will be able to overcome it.\n",
            "“The Indian National Congress has been following with concern the evolving political situation in Sri Lanka.\n",
            "The economic challenges, rising prices and shortage of food, fuel and essential commodities have caused enormous hardships and distress among the people there,” Congress president Sonia Gandhi said.\n"
          ]
        }
      ]
    },
    {
      "cell_type": "code",
      "metadata": {
        "id": "f0Nhx8VW-1Nn",
        "colab": {
          "base_uri": "https://localhost:8080/",
          "height": 139
        },
        "outputId": "d2798392-234b-4c4e-bce0-7e7935c791b6"
      },
      "source": [
        "text"
      ],
      "execution_count": 12,
      "outputs": [
        {
          "output_type": "execute_result",
          "data": {
            "text/plain": [
              "\"A man stands in the swimming pool as people visit the President's house on the day after demonstrators entered the building, after President Gotabaya Rajapaksa fled, amid the country's economic crisis, in Colombo, Sri Lanka July 10, 2022. (Reuters)\\n\\nProtesters continued to occupy the official residence of Sri Lankan President Gotabaya Rajapaksa on Sunday, as they raised demands of him and his deputy Ranil Wickremesinghe stepping down immediately.\\n\\n“The president has to resign, the prime minister has to resign and the government has to go,” playwright Ruwanthie de Chickera, one of the leaders of the protest movement, said during a press conference, as quoted by Reuters.\\n\\nBoth President Rajapaksa and Prime Minister Wickremesinghe have offered to resign after they were forced out of their residences by protestors on Saturday.\\n\\nAs Sri Lanka reels under its worst ever political and economic crisis, the Congress on Sunday hoped that New Delhi will continue to assist the people and government of Sri Lanka as they deal with the difficulties of the current situation.\\n\\nThe main opposition party expressed its solidarity with Sri Lanka and its people in the “moment of grave crisis” and hoped that they will be able to overcome it.\\n\\n“The Indian National Congress has been following with concern the evolving political situation in Sri Lanka. The economic challenges, rising prices and shortage of food, fuel and essential commodities have caused enormous hardships and distress among the people there,” Congress president Sonia Gandhi said.\\n\\nAlso Read:\""
            ],
            "application/vnd.google.colaboratory.intrinsic+json": {
              "type": "string"
            }
          },
          "metadata": {},
          "execution_count": 12
        }
      ]
    },
    {
      "cell_type": "markdown",
      "metadata": {
        "id": "gKU15cTPWn8O"
      },
      "source": [
        "## summarize with Hugging Face and Gradio"
      ]
    },
    {
      "cell_type": "code",
      "metadata": {
        "id": "uGiJlLvfT9P-",
        "colab": {
          "base_uri": "https://localhost:8080/",
          "height": 871
        },
        "outputId": "ac4effbf-cb66-4d0c-a086-d5e338d4028e"
      },
      "source": [
        "io1 = gr.Interface.load('huggingface/sshleifer/distilbart-cnn-12-6')\n",
        "io2 = gr.Interface.load(\"huggingface/facebook/bart-large-cnn\")\n",
        "io3 = gr.Interface.load(\"huggingface/google/pegasus-xsum\")  \n",
        "io4 = gr.Interface.load(\"huggingface/sshleifer/distilbart-cnn-6-6\")                   \n",
        "\n",
        "iface = Parallel(io1, io2, io3, io4,\n",
        "                 theme='huggingface', \n",
        "                 inputs = gr.inputs.Textbox(lines = 10, label=\"Text\"))\n",
        "\n",
        "iface.launch()"
      ],
      "execution_count": 13,
      "outputs": [
        {
          "output_type": "stream",
          "name": "stdout",
          "text": [
            "Fetching model from: https://huggingface.co/sshleifer/distilbart-cnn-12-6\n",
            "Fetching model from: https://huggingface.co/facebook/bart-large-cnn\n",
            "Fetching model from: https://huggingface.co/google/pegasus-xsum\n",
            "Fetching model from: https://huggingface.co/sshleifer/distilbart-cnn-6-6\n"
          ]
        },
        {
          "output_type": "stream",
          "name": "stderr",
          "text": [
            "/usr/local/lib/python3.7/dist-packages/gradio/deprecation.py:40: UserWarning: `optional` parameter is deprecated, and it has no effect\n",
            "  warnings.warn(value)\n",
            "/usr/local/lib/python3.7/dist-packages/gradio/deprecation.py:40: UserWarning: `numeric` parameter is deprecated, and it has no effect\n",
            "  warnings.warn(value)\n",
            "/usr/local/lib/python3.7/dist-packages/gradio/deprecation.py:40: UserWarning: The 'type' parameter has been deprecated. Use the Number component instead.\n",
            "  warnings.warn(value)\n",
            "/usr/local/lib/python3.7/dist-packages/gradio/interface.py:292: UserWarning: Currently, only the 'default' theme is supported.\n",
            "  warnings.warn(\"Currently, only the 'default' theme is supported.\")\n"
          ]
        },
        {
          "output_type": "stream",
          "name": "stdout",
          "text": [
            "Colab notebook detected. To show errors in colab notebook, set `debug=True` in `launch()`\n",
            "Running on public URL: https://51033.gradio.app\n",
            "\n",
            "This share link expires in 72 hours. For free permanent hosting, check out Spaces (https://huggingface.co/spaces)\n"
          ]
        },
        {
          "output_type": "display_data",
          "data": {
            "text/plain": [
              "<IPython.core.display.HTML object>"
            ],
            "text/html": [
              "<div><iframe src=\"https://51033.gradio.app\" width=\"900\" height=\"500\" allow=\"autoplay; camera; microphone;\" frameborder=\"0\" allowfullscreen></iframe></div>"
            ]
          },
          "metadata": {}
        },
        {
          "output_type": "execute_result",
          "data": {
            "text/plain": [
              "(<gradio.routes.App at 0x7fed60ac9c50>,\n",
              " 'http://127.0.0.1:7860/',\n",
              " 'https://51033.gradio.app')"
            ]
          },
          "metadata": {},
          "execution_count": 13
        }
      ]
    },
    {
      "cell_type": "code",
      "metadata": {
        "id": "3JEx1OCkIf8d"
      },
      "source": [
        "def extract_article_text(url):\n",
        "  USER_AGENT = 'Mozilla/5.0 (Macintosh; Intel Mac OS X 10.15; rv:78.0) Gecko/20100101 Firefox/78.0'\n",
        "  config = Config()\n",
        "  config.browser_user_agent = USER_AGENT\n",
        "  config.request_timeout = 10\n",
        "\n",
        "  article = Article(url, config=config)\n",
        "  article.download()\n",
        "  article.parse()\n",
        "  text = article.text\n",
        "  return text"
      ],
      "execution_count": 14,
      "outputs": []
    },
    {
      "cell_type": "code",
      "metadata": {
        "id": "4oz3rYZzgIV_",
        "colab": {
          "base_uri": "https://localhost:8080/",
          "height": 819
        },
        "outputId": "621226ae-210c-4479-8e72-90e50b9d3252"
      },
      "source": [
        "extractor = gr.Interface(extract_article_text, 'text', 'text')\n",
        "summarizer = gr.Interface.load(\"huggingface/facebook/bart-large-cnn\")\n",
        "\n",
        "sample_url = [['https://indianexpress.com/article/world/sri-lanka-crisis-live-updates-protests-gotabaya-rajapaksa-resign-8021566/'],\n",
        "              ['https://www.thehindu.com/news/international/ukraine-gets-17b-in-fresh-aid-to-pay-health-care-workers/article65631690.ece'],\n",
        "              ['https://swarajyamag.com/world/india-in-the-same-boat-as-sri-lanka-why-such-fear-mongering-is-absolutely-baseless']]\n",
        "\n",
        "desc =  '''\n",
        "        Let Hugging Face models summarize articles for you. \n",
        "        Note: Shorter articles generate faster summaries.\n",
        "        This summarizer uses bart-large-cnn model by Facebook\n",
        "        '''\n",
        "\n",
        "iface = Series(extractor, summarizer, \n",
        "  inputs = gr.inputs.Textbox(\n",
        "      lines = 2,\n",
        "      label = 'URL'\n",
        "  ),\n",
        "  outputs = 'text',\n",
        "  title = 'News Summarizer',\n",
        "  theme = 'huggingface',\n",
        "  description = desc,\n",
        "  examples=sample_url)\n",
        "\n",
        "iface.launch()"
      ],
      "execution_count": 15,
      "outputs": [
        {
          "output_type": "stream",
          "name": "stdout",
          "text": [
            "Fetching model from: https://huggingface.co/facebook/bart-large-cnn\n"
          ]
        },
        {
          "output_type": "stream",
          "name": "stderr",
          "text": [
            "/usr/local/lib/python3.7/dist-packages/gradio/deprecation.py:40: UserWarning: `optional` parameter is deprecated, and it has no effect\n",
            "  warnings.warn(value)\n",
            "/usr/local/lib/python3.7/dist-packages/gradio/deprecation.py:40: UserWarning: `numeric` parameter is deprecated, and it has no effect\n",
            "  warnings.warn(value)\n",
            "/usr/local/lib/python3.7/dist-packages/gradio/deprecation.py:40: UserWarning: The 'type' parameter has been deprecated. Use the Number component instead.\n",
            "  warnings.warn(value)\n",
            "/usr/local/lib/python3.7/dist-packages/gradio/interface.py:292: UserWarning: Currently, only the 'default' theme is supported.\n",
            "  warnings.warn(\"Currently, only the 'default' theme is supported.\")\n"
          ]
        },
        {
          "output_type": "stream",
          "name": "stdout",
          "text": [
            "Colab notebook detected. To show errors in colab notebook, set `debug=True` in `launch()`\n",
            "Running on public URL: https://49899.gradio.app\n",
            "\n",
            "This share link expires in 72 hours. For free permanent hosting, check out Spaces (https://huggingface.co/spaces)\n"
          ]
        },
        {
          "output_type": "display_data",
          "data": {
            "text/plain": [
              "<IPython.core.display.HTML object>"
            ],
            "text/html": [
              "<div><iframe src=\"https://49899.gradio.app\" width=\"900\" height=\"500\" allow=\"autoplay; camera; microphone;\" frameborder=\"0\" allowfullscreen></iframe></div>"
            ]
          },
          "metadata": {}
        },
        {
          "output_type": "execute_result",
          "data": {
            "text/plain": [
              "(<gradio.routes.App at 0x7fed5e10d110>,\n",
              " 'http://127.0.0.1:7861/',\n",
              " 'https://49899.gradio.app')"
            ]
          },
          "metadata": {},
          "execution_count": 15
        }
      ]
    }
  ]
}